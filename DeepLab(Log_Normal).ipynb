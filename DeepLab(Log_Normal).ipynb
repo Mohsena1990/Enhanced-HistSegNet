{
  "cells": [
    {
      "cell_type": "markdown",
      "metadata": {
        "id": "tbu_ucRSo5zT"
      },
      "source": [
        "The following is an example of how to utilize our Sen1Floods11 dataset for training a FCNN. In this example, we train and validate on hand-labeled chips of flood events. However, our dataset includes several other options that are detailed in the README. To replace the dataset, as outlined further below, simply replace the train, test, and validation split csv's, and download the corresponding dataset."
      ]
    },
    {
      "cell_type": "markdown",
      "metadata": {
        "id": "9TQtMrI_VhKk"
      },
      "source": [
        "Authenticate Google Cloud Platform. Note that to run this code, you must connect your notebook runtime to a GPU."
      ]
    },
    {
      "cell_type": "code",
      "execution_count": null,
      "metadata": {
        "colab": {
          "base_uri": "https://localhost:8080/"
        },
        "execution": {
          "iopub.execute_input": "2024-10-07T06:40:48.564885Z",
          "iopub.status.busy": "2024-10-07T06:40:48.564080Z",
          "iopub.status.idle": "2024-10-07T06:40:48.569450Z",
          "shell.execute_reply": "2024-10-07T06:40:48.568584Z",
          "shell.execute_reply.started": "2024-10-07T06:40:48.564845Z"
        },
        "id": "qCEt8eNtU9Zm",
        "outputId": "9288d1b4-bff0-40db-88fa-385996d06591",
        "trusted": true
      },
      "outputs": [],
      "source": [
        "from google.colab import auth\n",
        "auth.authenticate_user()\n",
        "\n",
        "!curl https://sdk.cloud.google.com | bash\n",
        "\n",
        "!gcloud init"
      ]
    },
    {
      "cell_type": "markdown",
      "metadata": {},
      "source": [
        "Install Google Cloud SDK non-interactively"
      ]
    },
    {
      "cell_type": "code",
      "execution_count": null,
      "metadata": {},
      "outputs": [],
      "source": [
        "\n",
        "!curl -sSL https://sdk.cloud.google.com | bash -s -- --disable-prompts --install-dir=/root\n",
        "\n",
        "# Update the PATH to include the Google Cloud SDK\n",
        "import os\n",
        "os.environ['PATH'] += ':/root/google-cloud-sdk/bin'\n",
        "\n",
        "# Initialize Google Cloud SDK non-interactively\n",
        "!gcloud config set core/disable_prompts True\n",
        "!gcloud init --skip-diagnostics"
      ]
    },
    {
      "cell_type": "code",
      "execution_count": null,
      "metadata": {
        "colab": {
          "base_uri": "https://localhost:8080/"
        },
        "execution": {
          "iopub.execute_input": "2024-10-07T06:40:48.571468Z",
          "iopub.status.busy": "2024-10-07T06:40:48.571143Z",
          "iopub.status.idle": "2024-10-07T06:41:02.106776Z",
          "shell.execute_reply": "2024-10-07T06:41:02.105758Z",
          "shell.execute_reply.started": "2024-10-07T06:40:48.571391Z"
        },
        "id": "YkUEnwXQVy4k",
        "outputId": "e18d9a6e-0a1f-4508-a1d9-4282a2b36c60",
        "trusted": true
      },
      "outputs": [],
      "source": [
        "!echo \"deb http://packages.cloud.google.com/apt gcsfuse-bionic main\" > /etc/apt/sources.list.d/gcsfuse.list\n",
        "!curl https://packages.cloud.google.com/apt/doc/apt-key.gpg | apt-key add -\n",
        "!apt -qq update\n",
        "!apt -qq install gcsfuse"
      ]
    },
    {
      "cell_type": "markdown",
      "metadata": {
        "id": "vXGTA6vHVyJX"
      },
      "source": [
        "Install RasterIO"
      ]
    },
    {
      "cell_type": "code",
      "execution_count": null,
      "metadata": {
        "colab": {
          "base_uri": "https://localhost:8080/"
        },
        "execution": {
          "iopub.execute_input": "2024-10-07T06:41:02.108667Z",
          "iopub.status.busy": "2024-10-07T06:41:02.108275Z",
          "iopub.status.idle": "2024-10-07T06:41:15.756012Z",
          "shell.execute_reply": "2024-10-07T06:41:15.755097Z",
          "shell.execute_reply.started": "2024-10-07T06:41:02.108630Z"
        },
        "id": "NLlVutLzV_pZ",
        "outputId": "e978f4e7-2f20-450c-e7db-b5f4a80abf36",
        "trusted": true
      },
      "outputs": [],
      "source": [
        "!pip install rasterio"
      ]
    },
    {
      "cell_type": "markdown",
      "metadata": {
        "id": "hLqL9C2Rg6eB"
      },
      "source": [
        "Define a model checkpoint folder, for storing network checkpoints during training"
      ]
    },
    {
      "cell_type": "code",
      "execution_count": null,
      "metadata": {
        "colab": {
          "base_uri": "https://localhost:8080/"
        },
        "execution": {
          "iopub.execute_input": "2024-10-07T06:41:15.759652Z",
          "iopub.status.busy": "2024-10-07T06:41:15.758942Z",
          "iopub.status.idle": "2024-10-07T06:41:16.812736Z",
          "shell.execute_reply": "2024-10-07T06:41:16.811748Z",
          "shell.execute_reply.started": "2024-10-07T06:41:15.759614Z"
        },
        "id": "yLlIhE-Hg-Ym",
        "outputId": "9b92dab2-b224-47d7-c50b-250b19758da8",
        "trusted": true
      },
      "outputs": [],
      "source": [
        "%cd /home\n",
        "!sudo mkdir checkpoints"
      ]
    },
    {
      "cell_type": "markdown",
      "metadata": {
        "id": "mwrDM4AjVnbU"
      },
      "source": [
        "Download train, test, and validation splits for both flood water. To download different train, test, and validation splits, simply replace these paths with the path to a csv containing the desired splits."
      ]
    },
    {
      "cell_type": "code",
      "execution_count": null,
      "metadata": {
        "colab": {
          "base_uri": "https://localhost:8080/"
        },
        "execution": {
          "iopub.execute_input": "2024-10-07T06:41:16.814655Z",
          "iopub.status.busy": "2024-10-07T06:41:16.814220Z",
          "iopub.status.idle": "2024-10-07T06:41:25.581492Z",
          "shell.execute_reply": "2024-10-07T06:41:25.580327Z",
          "shell.execute_reply.started": "2024-10-07T06:41:16.814607Z"
        },
        "id": "RFLsGwdRWuO4",
        "outputId": "6bdec9d9-d195-48aa-c4b7-59097917c193",
        "trusted": true
      },
      "outputs": [],
      "source": [
        "!gsutil cp gs://sen1floods11/v1.1/splits/flood_handlabeled/flood_train_data.csv .\n",
        "!gsutil cp gs://sen1floods11/v1.1/splits/flood_handlabeled/flood_test_data.csv .\n",
        "!gsutil cp gs://sen1floods11/v1.1/splits/flood_handlabeled/flood_valid_data.csv ."
      ]
    },
    {
      "cell_type": "markdown",
      "metadata": {
        "id": "ZCAXpuKVW3eV"
      },
      "source": [
        "Download raw train, test, and validation data. In this example, we are downloading train, test, and validation data of flood images which are hand labeled. However, you can simply replace these paths with whichever dataset you would like to use - further documentation of the Sen1Floods11 dataset and organization is available in the README."
      ]
    },
    {
      "cell_type": "code",
      "execution_count": null,
      "metadata": {
        "colab": {
          "base_uri": "https://localhost:8080/"
        },
        "execution": {
          "iopub.execute_input": "2024-10-07T06:41:25.583374Z",
          "iopub.status.busy": "2024-10-07T06:41:25.582924Z",
          "iopub.status.idle": "2024-10-07T06:42:01.756877Z",
          "shell.execute_reply": "2024-10-07T06:42:01.755697Z",
          "shell.execute_reply.started": "2024-10-07T06:41:25.583339Z"
        },
        "id": "ahAWnrSFW53S",
        "outputId": "d915a26f-23bc-4d2a-8554-2a5d1aefce25",
        "trusted": true
      },
      "outputs": [],
      "source": [
        "!sudo mkdir files\n",
        "!sudo mkdir files/S1\n",
        "!sudo mkdir files/Labels\n",
        "\n",
        "!gsutil -m rsync -r gs://sen1floods11/v1.1/data/flood_events/HandLabeled/S1Hand files/S1\n",
        "!gsutil -m rsync -r gs://sen1floods11/v1.1/data/flood_events/HandLabeled/LabelHand files/Labels"
      ]
    },
    {
      "cell_type": "markdown",
      "metadata": {
        "id": "_46CazV3XSCD"
      },
      "source": [
        "Define model training hyperparameters"
      ]
    },
    {
      "cell_type": "code",
      "execution_count": 11,
      "metadata": {
        "execution": {
          "iopub.execute_input": "2024-10-07T06:42:01.759030Z",
          "iopub.status.busy": "2024-10-07T06:42:01.758606Z",
          "iopub.status.idle": "2024-10-07T06:42:01.764781Z",
          "shell.execute_reply": "2024-10-07T06:42:01.763851Z",
          "shell.execute_reply.started": "2024-10-07T06:42:01.758983Z"
        },
        "id": "fNYQywdWXeLM",
        "trusted": true
      },
      "outputs": [],
      "source": [
        "LR = 5e-4\n",
        "EPOCHS = 100\n",
        "EPOCHS_PER_UPDATE = 1\n",
        "RUNNAME = \"Sen1Floods11\""
      ]
    },
    {
      "cell_type": "markdown",
      "metadata": {
        "id": "W9FJmTnZXjxj"
      },
      "source": [
        "Define functions to process and augment training and testing images"
      ]
    },
    {
      "cell_type": "code",
      "execution_count": 12,
      "metadata": {
        "execution": {
          "iopub.execute_input": "2024-10-07T06:42:01.766797Z",
          "iopub.status.busy": "2024-10-07T06:42:01.766214Z",
          "iopub.status.idle": "2024-10-07T06:42:05.980844Z",
          "shell.execute_reply": "2024-10-07T06:42:05.980030Z",
          "shell.execute_reply.started": "2024-10-07T06:42:01.766751Z"
        },
        "id": "mBkfav0Eajqg",
        "trusted": true
      },
      "outputs": [],
      "source": [
        "import torch\n",
        "from torchvision import transforms\n",
        "import torchvision.transforms.functional as F\n",
        "import random\n",
        "from PIL import Image\n",
        "\n",
        "class InMemoryDataset(torch.utils.data.Dataset):\n",
        "\n",
        "  def __init__(self, data_list, preprocess_func):\n",
        "    self.data_list = data_list\n",
        "    self.preprocess_func = preprocess_func\n",
        "\n",
        "  def __getitem__(self, i):\n",
        "    return self.preprocess_func(self.data_list[i])\n",
        "\n",
        "  def __len__(self):\n",
        "    return len(self.data_list)\n",
        "\n",
        "\n",
        "def processAndAugment(data):\n",
        "  (x,y) = data\n",
        "  im,label = x.copy(), y.copy()\n",
        "\n",
        "  # convert to PIL for easier transforms\n",
        "  im1 = Image.fromarray(im[0])\n",
        "  im2 = Image.fromarray(im[1])\n",
        "  label = Image.fromarray(label.squeeze())\n",
        "\n",
        "  # Get params for random transforms\n",
        "  i, j, h, w = transforms.RandomCrop.get_params(im1, (256, 256))\n",
        "\n",
        "  im1 = F.crop(im1, i, j, h, w)\n",
        "  im2 = F.crop(im2, i, j, h, w)\n",
        "  label = F.crop(label, i, j, h, w)\n",
        "  if random.random() > 0.5:\n",
        "    im1 = F.hflip(im1)\n",
        "    im2 = F.hflip(im2)\n",
        "    label = F.hflip(label)\n",
        "  if random.random() > 0.5:\n",
        "    im1 = F.vflip(im1)\n",
        "    im2 = F.vflip(im2)\n",
        "    label = F.vflip(label)\n",
        "\n",
        "  norm = transforms.Normalize([0.6851, 0.5235], [0.0820, 0.1102])\n",
        "  im = torch.stack([transforms.ToTensor()(im1).squeeze(), transforms.ToTensor()(im2).squeeze()])\n",
        "  im = norm(im)\n",
        "  label = transforms.ToTensor()(label).squeeze()\n",
        "  if torch.sum(label.gt(.003) * label.lt(.004)):\n",
        "    label *= 255\n",
        "  label = label.round()\n",
        "\n",
        "  return im, label\n",
        "\n",
        "\n",
        "def processTestIm(data):\n",
        "  (x,y) = data\n",
        "  im,label = x.copy(), y.copy()\n",
        "  norm = transforms.Normalize([0.6851, 0.5235], [0.0820, 0.1102])\n",
        "\n",
        "  # convert to PIL for easier transforms\n",
        "  im_c1 = Image.fromarray(im[0]).resize((512,512))\n",
        "  im_c2 = Image.fromarray(im[1]).resize((512,512))\n",
        "  label = Image.fromarray(label.squeeze()).resize((512,512))\n",
        "\n",
        "  im_c1s = [F.crop(im_c1, 0, 0, 256, 256), F.crop(im_c1, 0, 256, 256, 256),\n",
        "            F.crop(im_c1, 256, 0, 256, 256), F.crop(im_c1, 256, 256, 256, 256)]\n",
        "  im_c2s = [F.crop(im_c2, 0, 0, 256, 256), F.crop(im_c2, 0, 256, 256, 256),\n",
        "            F.crop(im_c2, 256, 0, 256, 256), F.crop(im_c2, 256, 256, 256, 256)]\n",
        "  labels = [F.crop(label, 0, 0, 256, 256), F.crop(label, 0, 256, 256, 256),\n",
        "            F.crop(label, 256, 0, 256, 256), F.crop(label, 256, 256, 256, 256)]\n",
        "\n",
        "  ims = [torch.stack((transforms.ToTensor()(x).squeeze(),\n",
        "                    transforms.ToTensor()(y).squeeze()))\n",
        "                    for (x,y) in zip(im_c1s, im_c2s)]\n",
        "\n",
        "  ims = [norm(im) for im in ims]\n",
        "  ims = torch.stack(ims)\n",
        "\n",
        "  labels = [(transforms.ToTensor()(label).squeeze()) for label in labels]\n",
        "  labels = torch.stack(labels)\n",
        "\n",
        "  if torch.sum(labels.gt(.003) * labels.lt(.004)):\n",
        "    labels *= 255\n",
        "  labels = labels.round()\n",
        "\n",
        "  return ims, labels"
      ]
    },
    {
      "cell_type": "code",
      "execution_count": 13,
      "metadata": {
        "execution": {
          "iopub.execute_input": "2024-10-07T06:42:05.984318Z",
          "iopub.status.busy": "2024-10-07T06:42:05.983918Z",
          "iopub.status.idle": "2024-10-07T06:42:06.461339Z",
          "shell.execute_reply": "2024-10-07T06:42:06.460558Z",
          "shell.execute_reply.started": "2024-10-07T06:42:05.984284Z"
        },
        "id": "rQUnYCIBeG21",
        "trusted": true
      },
      "outputs": [],
      "source": [
        "from time import time\n",
        "import csv\n",
        "import os\n",
        "import numpy as np\n",
        "import rasterio\n",
        "\n",
        "def getArrFlood(fname):\n",
        "  return rasterio.open(fname).read()\n",
        "\n",
        "def download_flood_water_data_from_list(l):\n",
        "  i = 0\n",
        "  tot_nan = 0\n",
        "  tot_good = 0\n",
        "  flood_data = []\n",
        "  for (im_fname, mask_fname) in l:\n",
        "    if not os.path.exists(os.path.join(\"files/\", im_fname)):\n",
        "      continue\n",
        "    arr_x = np.nan_to_num(getArrFlood(os.path.join(\"files/\", im_fname)))\n",
        "    arr_y = getArrFlood(os.path.join(\"files/\", mask_fname))\n",
        "    arr_y[arr_y == -1] = 255\n",
        "\n",
        "    arr_x = np.clip(arr_x, -50, 1)\n",
        "    arr_x = (arr_x + 50) / 51\n",
        "\n",
        "    if i % 100 == 0:\n",
        "      print(im_fname, mask_fname)\n",
        "    i += 1\n",
        "    flood_data.append((arr_x,arr_y))\n",
        "\n",
        "  return flood_data\n",
        "\n",
        "def load_flood_train_data(input_root, label_root):\n",
        "  fname = \"flood_train_data.csv\"\n",
        "  training_files = []\n",
        "  with open(fname) as f:\n",
        "    for line in csv.reader(f):\n",
        "      training_files.append(tuple((input_root+line[0], label_root+line[1])))\n",
        "\n",
        "  return download_flood_water_data_from_list(training_files)\n",
        "\n",
        "def load_flood_valid_data(input_root, label_root):\n",
        "  fname = \"flood_valid_data.csv\"\n",
        "  validation_files = []\n",
        "  with open(fname) as f:\n",
        "    for line in csv.reader(f):\n",
        "      validation_files.append(tuple((input_root+line[0], label_root+line[1])))\n",
        "\n",
        "  return download_flood_water_data_from_list(validation_files)\n",
        "\n",
        "def load_flood_test_data(input_root, label_root):\n",
        "  fname = \"flood_test_data.csv\"\n",
        "  testing_files = []\n",
        "  with open(fname) as f:\n",
        "    for line in csv.reader(f):\n",
        "      testing_files.append(tuple((input_root+line[0], label_root+line[1])))\n",
        "\n",
        "  return download_flood_water_data_from_list(testing_files)"
      ]
    },
    {
      "cell_type": "markdown",
      "metadata": {
        "id": "cFp9jrHYfOUh"
      },
      "source": [
        "Load training data and validation data. Note that here, we have chosen to train and validate our model on flood data. However, you can simply replace the load function call with one of the options defined above to load a different dataset."
      ]
    },
    {
      "cell_type": "code",
      "execution_count": null,
      "metadata": {
        "colab": {
          "base_uri": "https://localhost:8080/"
        },
        "execution": {
          "iopub.execute_input": "2024-10-07T06:42:06.463320Z",
          "iopub.status.busy": "2024-10-07T06:42:06.462583Z",
          "iopub.status.idle": "2024-10-07T06:42:12.974034Z",
          "shell.execute_reply": "2024-10-07T06:42:12.973038Z",
          "shell.execute_reply.started": "2024-10-07T06:42:06.463274Z"
        },
        "id": "ZcqPlsjBffXx",
        "outputId": "3d723696-cf40-4588-c0b0-1cef27f63543",
        "trusted": true
      },
      "outputs": [],
      "source": [
        "train_data = load_flood_train_data('S1/', 'Labels/')\n",
        "train_dataset = InMemoryDataset(train_data, processAndAugment)\n",
        "train_loader = torch.utils.data.DataLoader(train_dataset, batch_size=16, shuffle=True, sampler=None,\n",
        "                  batch_sampler=None, num_workers=0, collate_fn=None,\n",
        "                  pin_memory=True, drop_last=False, timeout=0,\n",
        "                  worker_init_fn=None)\n",
        "train_iter = iter(train_loader)\n",
        "\n",
        "valid_data = load_flood_valid_data('S1/', 'Labels/')\n",
        "valid_dataset = InMemoryDataset(valid_data, processTestIm)\n",
        "valid_loader = torch.utils.data.DataLoader(valid_dataset, batch_size=4, shuffle=True, sampler=None,\n",
        "                  batch_sampler=None, num_workers=0, collate_fn=lambda x: (torch.cat([a[0] for a in x], 0), torch.cat([a[1] for a in x], 0)),\n",
        "                  pin_memory=True, drop_last=False, timeout=0,\n",
        "                  worker_init_fn=None)\n",
        "valid_iter = iter(valid_loader)"
      ]
    },
    {
      "cell_type": "code",
      "execution_count": null,
      "metadata": {
        "colab": {
          "base_uri": "https://localhost:8080/"
        },
        "execution": {
          "iopub.execute_input": "2024-10-07T06:42:13.056515Z",
          "iopub.status.busy": "2024-10-07T06:42:13.055973Z",
          "iopub.status.idle": "2024-10-07T06:42:13.067294Z",
          "shell.execute_reply": "2024-10-07T06:42:13.066060Z",
          "shell.execute_reply.started": "2024-10-07T06:42:13.056470Z"
        },
        "id": "xTbbeHF3F7n3",
        "outputId": "14ff57df-e995-478e-93f3-3db98a126749",
        "trusted": true
      },
      "outputs": [],
      "source": [
        "train_dataset[0][0].shape"
      ]
    },
    {
      "cell_type": "markdown",
      "metadata": {},
      "source": [
        "Define a device tool to automatically switch between the available CPU and GPU."
      ]
    },
    {
      "cell_type": "code",
      "execution_count": null,
      "metadata": {},
      "outputs": [],
      "source": [
        "\n",
        "# Check if CUDA is available\n",
        "\n",
        "print(\"CUDA Available:\", torch.cuda.is_available())\n",
        "\n",
        "print(\"Number of GPUs:\", torch.cuda.device_count())\n",
        "\n",
        "print(\"Current GPU:\", torch.cuda.get_device_name(0) if torch.cuda.is_available() else \"No GPU found.\")"
      ]
    },
    {
      "cell_type": "code",
      "execution_count": 18,
      "metadata": {
        "id": "Gbv6s_tOF7n3",
        "trusted": true
      },
      "outputs": [],
      "source": [
        "\n",
        "device = torch.device(\"cuda\" if torch.cuda.is_available() else \"cpu\")\n"
      ]
    },
    {
      "cell_type": "markdown",
      "metadata": {
        "id": "i3aAhUi2fp7M"
      },
      "source": [
        "Define a local Log-normal histogram layer separately and apply it to the images."
      ]
    },
    {
      "cell_type": "code",
      "execution_count": 21,
      "metadata": {
        "execution": {
          "iopub.execute_input": "2024-10-07T06:42:13.113948Z",
          "iopub.status.busy": "2024-10-07T06:42:13.113646Z",
          "iopub.status.idle": "2024-10-07T06:42:13.121019Z",
          "shell.execute_reply": "2024-10-07T06:42:13.120004Z",
          "shell.execute_reply.started": "2024-10-07T06:42:13.113915Z"
        },
        "id": "ObRGZont55Nr",
        "trusted": true
      },
      "outputs": [],
      "source": [
        "import torch\n",
        "import torch.nn as nn\n",
        "import torchvision.models as models\n",
        "\n",
        "\n",
        "class LogNormalDistributionHistogramLayer(nn.Module):\n",
        "    def __init__(self):\n",
        "        super(LogNormalDistributionHistogramLayer, self).__init__()\n",
        "\n",
        "    def forward(self, x):\n",
        "        # Compute histogram for Log-Normal Distribution\n",
        "        mean = torch.mean(x)\n",
        "        variance = torch.var(x)\n",
        "        log_normal_histogram = (1/(x * variance * (2 * torch.pi)**0.5)) * torch.exp(-((torch.log(x) - mean) ** 2) / (2 * variance))\n",
        "        return log_normal_histogram\n"
      ]
    },
    {
      "cell_type": "markdown",
      "metadata": {},
      "source": [
        "### Test Active Contour"
      ]
    },
    {
      "cell_type": "markdown",
      "metadata": {},
      "source": [
        "Define an active contour model to be applied after the Log-Histogram Layer. \n",
        "This model will help in refining the boundaries of the segmented regions, improving the accuracy of object detection in the images."
      ]
    },
    {
      "cell_type": "code",
      "execution_count": 28,
      "metadata": {
        "execution": {
          "iopub.execute_input": "2024-10-07T06:42:13.185777Z",
          "iopub.status.busy": "2024-10-07T06:42:13.185388Z",
          "iopub.status.idle": "2024-10-07T06:42:13.564355Z",
          "shell.execute_reply": "2024-10-07T06:42:13.563383Z",
          "shell.execute_reply.started": "2024-10-07T06:42:13.185735Z"
        },
        "id": "bnY7_SsTF7n6",
        "trusted": true
      },
      "outputs": [],
      "source": [
        "from skimage.segmentation import active_contour\n",
        "\n",
        "class ActiveContourModel(nn.Module):\n",
        "    def __init__(self):\n",
        "        super(ActiveContourModel, self).__init__()\n",
        "#         self.conv1 = nn.Conv2d(1, 16, kernel_size=3, stride=1, padding=1)\n",
        "#         self.relu1 = nn.ReLU()\n",
        "#         self.pool1 = nn.MaxPool2d(kernel_size=2, stride=2)\n",
        "\n",
        "#         self.conv2 = nn.Conv2d(16, 32, kernel_size=3, stride=1, padding=1)\n",
        "#         self.relu2 = nn.ReLU()\n",
        "#         self.pool2 = nn.MaxPool2d(kernel_size=2, stride=2)\n",
        "\n",
        "#         # Additional layers\n",
        "#         self.conv3 = nn.Conv2d(32, 64, kernel_size=3, stride=1, padding=1)\n",
        "#         self.relu3 = nn.ReLU()\n",
        "#         self.pool3 = nn.MaxPool2d(kernel_size=2, stride=2)\n",
        "\n",
        "#         self.final_conv = nn.Conv2d(64, 3, kernel_size=1)\n",
        "\n",
        "    def forward(self, image):\n",
        "        if image.is_cuda:\n",
        "            image = image.cpu()\n",
        "\n",
        "        image_np = image.detach().numpy()\n",
        "        batch_size, channels, height, width = image_np.shape\n",
        "        masks = []\n",
        "\n",
        "        for img in image_np:\n",
        "            img = img[0]\n",
        "            s = np.linspace(0, 2 * np.pi, 400)\n",
        "            r = 100 + 50 * np.sin(s)\n",
        "            c = 100 + 50 * np.cos(s)\n",
        "            init = np.array([r, c]).T\n",
        "            snake = active_contour(img, init, alpha=0.015, beta=10, gamma=0.001)\n",
        "            mask = np.zeros_like(img)\n",
        "            snake = snake.astype(int)\n",
        "            snake[:, 0] = np.clip(snake[:, 0], 0, height - 1)\n",
        "            snake[:, 1] = np.clip(snake[:, 1], 0, width - 1)\n",
        "            if snake.size > 0:\n",
        "                for point in snake:\n",
        "                    y, x = point[0], point[1]\n",
        "                    if 0 <= y < height and 0 <= x < width:\n",
        "                        mask[y, x] = 1\n",
        "            masks.append(mask)\n",
        "\n",
        "        masks_tensor = torch.tensor(np.array(masks), dtype=torch.float32).unsqueeze(1).to(image.device)\n",
        "\n",
        "#         x = self.conv1(masks_tensor)\n",
        "#         x = self.relu1(x)\n",
        "#         x = self.pool1(x)\n",
        "\n",
        "#         x = self.conv2(x)\n",
        "#         x = self.relu2(x)\n",
        "#         x = self.pool2(x)\n",
        "\n",
        "#         x = self.conv3(x)\n",
        "#         x = self.relu3(x)\n",
        "#         x = self.pool3(x)\n",
        "\n",
        "#         x = self.final_conv(x)\n",
        "\n",
        "        return masks_tensor  \n"
      ]
    },
    {
      "cell_type": "code",
      "execution_count": 30,
      "metadata": {
        "execution": {
          "iopub.execute_input": "2024-10-07T06:42:13.575688Z",
          "iopub.status.busy": "2024-10-07T06:42:13.575330Z",
          "iopub.status.idle": "2024-10-07T06:42:13.584939Z",
          "shell.execute_reply": "2024-10-07T06:42:13.584084Z",
          "shell.execute_reply.started": "2024-10-07T06:42:13.575652Z"
        },
        "id": "TKJ21PHMF7n7",
        "trusted": true
      },
      "outputs": [],
      "source": [
        "class NormalHistogramModel(nn.Module):\n",
        "    def __init__(self):\n",
        "        super(NormalHistogramModel, self).__init__()\n",
        "        self.histogram_layer = LogNormalDistributionHistogramLayer()\n",
        "        self.active_contour = ActiveContourModel()\n",
        "\n",
        "    def forward(self, x):\n",
        "        hist = self.histogram_layer(x)\n",
        "        refined_output = self.active_contour(hist)\n",
        "\n",
        "       \n",
        "        return refined_output\n",
        "\n"
      ]
    },
    {
      "cell_type": "markdown",
      "metadata": {},
      "source": [
        "Define the network. For our purposes, we use DeepLabV3 as MainModel class. However, if you wish to test a different model framework, optimizer, or loss function you can simply replace those here."
      ]
    },
    {
      "cell_type": "code",
      "execution_count": 33,
      "metadata": {
        "execution": {
          "iopub.execute_input": "2024-10-07T06:42:13.604727Z",
          "iopub.status.busy": "2024-10-07T06:42:13.604429Z",
          "iopub.status.idle": "2024-10-07T06:42:13.612260Z",
          "shell.execute_reply": "2024-10-07T06:42:13.611416Z",
          "shell.execute_reply.started": "2024-10-07T06:42:13.604689Z"
        },
        "id": "rRXIx5v9F7oC",
        "trusted": true
      },
      "outputs": [],
      "source": [
        "class MainModel(nn.Module):\n",
        "    def __init__(self):\n",
        "        super(MainModel, self).__init__()\n",
        "        self.conv_to_rgb = nn.Conv2d(2, 3, kernel_size=1)\n",
        "        self.net = models.segmentation.deeplabv3_resnet50(pretrained=False, num_classes=2, pretrained_backbone=False)\n",
        "#         # Encoder\n",
        "#         self.conv1 = nn.Conv2d(2, 16, kernel_size=3, stride=1, padding=1)\n",
        "#         self.relu1 = nn.ReLU()\n",
        "#         self.pool1 = nn.MaxPool2d(kernel_size=2, stride=2)\n",
        "\n",
        "#         self.conv2 = nn.Conv2d(16, 32, kernel_size=3, stride=1, padding=1)\n",
        "#         self.relu2 = nn.ReLU()\n",
        "#         self.pool2 = nn.MaxPool2d(kernel_size=2, stride=2)\n",
        "\n",
        "#         self.conv3 = nn.Conv2d(32, 64, kernel_size=3, stride=1, padding=1)\n",
        "#         self.relu3 = nn.ReLU()\n",
        "#         self.pool3 = nn.MaxPool2d(kernel_size=2, stride=2)\n",
        "\n",
        "#         # Decoder (Upsampling)\n",
        "#         self.upconv1 = nn.ConvTranspose2d(64, 32, kernel_size=2, stride=2)\n",
        "#         self.relu4 = nn.ReLU()\n",
        "\n",
        "#         self.upconv2 = nn.ConvTranspose2d(32, 16, kernel_size=2, stride=2)\n",
        "#         self.relu5 = nn.ReLU()\n",
        "\n",
        "#         self.upconv3 = nn.ConvTranspose2d(16, 2, kernel_size=2, stride=2)\n",
        "#         self.relu6 = nn.ReLU()\n",
        "\n",
        "#         self.final_conv = nn.Conv2d(2, 2, kernel_size=1)\n",
        "\n",
        "    def forward(self, x):\n",
        "#         # Encoder\n",
        "#         x = self.conv1(x)\n",
        "#         x = self.relu1(x)\n",
        "#         x = self.pool1(x)\n",
        "\n",
        "#         x = self.conv2(x)\n",
        "#         x = self.relu2(x)\n",
        "#         x = self.pool2(x)\n",
        "\n",
        "#         x = self.conv3(x)\n",
        "#         x = self.relu3(x)\n",
        "#         x = self.pool3(x)\n",
        "\n",
        "#         # Decoder (upsample back to original shape)\n",
        "#         x = self.upconv1(x)\n",
        "#         x = self.relu4(x)\n",
        "\n",
        "#         x = self.upconv2(x)\n",
        "#         x = self.relu5(x)\n",
        "\n",
        "#         x = self.upconv3(x)\n",
        "#         x = self.relu6(x)\n",
        "\n",
        "#         # Final convolution to match input channels (2 channels)\n",
        "#         x = self.final_conv(x)\n",
        "        refined_output_rgb = self.conv_to_rgb(x)\n",
        "        x = self.net(refined_output_rgb)\n",
        "        return x['out']"
      ]
    },
    {
      "cell_type": "code",
      "execution_count": 35,
      "metadata": {
        "execution": {
          "iopub.execute_input": "2024-10-07T06:42:13.623688Z",
          "iopub.status.busy": "2024-10-07T06:42:13.623364Z",
          "iopub.status.idle": "2024-10-07T06:42:13.631734Z",
          "shell.execute_reply": "2024-10-07T06:42:13.630896Z",
          "shell.execute_reply.started": "2024-10-07T06:42:13.623655Z"
        },
        "id": "QAZQh05C54w-",
        "trusted": true
      },
      "outputs": [],
      "source": [
        "class CombinedModel(nn.Module):\n",
        "    def __init__(self):\n",
        "        super(CombinedModel, self).__init__()\n",
        "        self.main_model = MainModel()\n",
        "        self.normal_histogram_model = NormalHistogramModel()\n",
        "\n",
        "        # Initialize the segmentation network (e.g., FCN ResNet50)\n",
        "#         self.net = models.segmentation.fcn_resnet50(pretrained=False, num_classes=2, pretrained_backbone=False)\n",
        "#         self.net.backbone.conv1 = nn.Conv2d(3, 64, kernel_size=7, stride=2, padding=3, bias=False)  # 3 input channels\n",
        "\n",
        "    def forward(self, x):\n",
        "        main_output = self.main_model(x).to(device)       # Output shape: [2, 2, 512, 512]\n",
        "        normal_output = self.normal_histogram_model(x).to(device)  # Output shape: [2, 1, 512, 512]\n",
        "\n",
        "        # Concatenate along the channel dimension\n",
        "        combined_output = torch.cat((main_output, normal_output), dim=1)  # Shape: [2, 3, 512, 512]\n",
        "\n",
        "        # Pass through the segmentation model\n",
        "#         segmentation_output = self.net(combined_output)[\"out\"]  # Get the output of the segmentation model\n",
        "        return combined_output  # Shape: [2, 2, 512, 512] (assuming 2 classes)\n"
      ]
    },
    {
      "cell_type": "code",
      "execution_count": null,
      "metadata": {
        "colab": {
          "base_uri": "https://localhost:8080/"
        },
        "execution": {
          "iopub.execute_input": "2024-10-07T06:42:13.651353Z",
          "iopub.status.busy": "2024-10-07T06:42:13.651043Z",
          "iopub.status.idle": "2024-10-07T06:42:14.348993Z",
          "shell.execute_reply": "2024-10-07T06:42:14.348194Z",
          "shell.execute_reply.started": "2024-10-07T06:42:13.651305Z"
        },
        "id": "uI1spoYTF7oD",
        "outputId": "1385e0be-ae32-4397-934b-59126fe69fc8",
        "trusted": true
      },
      "outputs": [],
      "source": [
        "def convertBNtoGN(module, num_groups=16):\n",
        "    for name, child in module.named_children():\n",
        "        if isinstance(child, torch.nn.BatchNorm2d):\n",
        "            gn = nn.GroupNorm(num_groups, child.num_features, eps=child.eps, affine=child.affine)\n",
        "            if child.affine:\n",
        "                gn.weight.data = child.weight.data.clone().detach()\n",
        "                gn.bias.data = child.bias.data.clone().detach()\n",
        "            module.add_module(name, gn)\n",
        "\n",
        "        else:\n",
        "            convertBNtoGN(child, num_groups=num_groups)\n",
        "    return module\n",
        "\n",
        "# Instantiate and convert the model\n",
        "net = CombinedModel().to(device)\n",
        "net = convertBNtoGN(net)\n",
        "net = nn.DataParallel(net)\n",
        "\n"
      ]
    },
    {
      "cell_type": "code",
      "execution_count": 39,
      "metadata": {
        "execution": {
          "iopub.execute_input": "2024-10-07T06:42:14.350467Z",
          "iopub.status.busy": "2024-10-07T06:42:14.350142Z",
          "iopub.status.idle": "2024-10-07T06:42:14.356744Z",
          "shell.execute_reply": "2024-10-07T06:42:14.355799Z",
          "shell.execute_reply.started": "2024-10-07T06:42:14.350434Z"
        },
        "id": "G3-_CrPQF7oE",
        "trusted": true
      },
      "outputs": [],
      "source": [
        "criterion = nn.CrossEntropyLoss(weight=torch.tensor([1,8,0]).float().to(device), ignore_index=255)\n",
        "optimizer = torch.optim.AdamW(net.parameters(),lr=LR)\n",
        "scheduler = torch.optim.lr_scheduler.CosineAnnealingWarmRestarts(optimizer, len(train_loader) * 10, T_mult=2, eta_min=0, last_epoch=-1)"
      ]
    },
    {
      "cell_type": "code",
      "execution_count": 42,
      "metadata": {
        "execution": {
          "iopub.execute_input": "2024-10-07T06:42:14.380512Z",
          "iopub.status.busy": "2024-10-07T06:42:14.380059Z",
          "iopub.status.idle": "2024-10-07T06:42:14.396090Z",
          "shell.execute_reply": "2024-10-07T06:42:14.395165Z",
          "shell.execute_reply.started": "2024-10-07T06:42:14.380479Z"
        },
        "id": "oq4iQXiy6gDY",
        "trusted": true
      },
      "outputs": [],
      "source": [
        "import torch\n",
        "\n",
        "def computeIOU(output, target):\n",
        "    output = torch.argmax(output, dim=1).flatten()\n",
        "    target = target.flatten()\n",
        "\n",
        "    no_ignore = target.ne(255).to(device)\n",
        "    output = output.masked_select(no_ignore)\n",
        "    target = target.masked_select(no_ignore)\n",
        "\n",
        "    intersection = torch.sum(output * target)\n",
        "    union = torch.sum(target) + torch.sum(output) - intersection\n",
        "    iou = (intersection + 1e-7) / (union + 1e-7)  # Use a small epsilon for stability\n",
        "\n",
        "    if torch.isnan(iou):  # Check for NaN\n",
        "        print(\"IOU calculation failed, replacing with 0\")\n",
        "        return torch.tensor(0.0).to(device)\n",
        "\n",
        "    return iou\n",
        "\n",
        "def computeAccuracy(output, target):\n",
        "    output = torch.argmax(output, dim=1).flatten()\n",
        "    target = target.flatten()\n",
        "\n",
        "    no_ignore = target.ne(255).to(device)\n",
        "    output = output.masked_select(no_ignore)\n",
        "    target = target.masked_select(no_ignore)\n",
        "\n",
        "    correct = torch.sum(output.eq(target))\n",
        "    return correct.float() / output.numel()  # Return accuracy based on the number of valid pixels\n",
        "\n",
        "def truePositives(output, target):\n",
        "    output = torch.argmax(output, dim=1).flatten()\n",
        "    target = target.flatten()\n",
        "\n",
        "    no_ignore = target.ne(255).to(device)\n",
        "    output = output.masked_select(no_ignore)\n",
        "    target = target.masked_select(no_ignore)\n",
        "\n",
        "    correct = torch.sum(output * target)\n",
        "    return correct\n",
        "\n",
        "def trueNegatives(output, target):\n",
        "    output = torch.argmax(output, dim=1).flatten()\n",
        "    target = target.flatten()\n",
        "\n",
        "    no_ignore = target.ne(255).to(device)\n",
        "    output = output.masked_select(no_ignore)\n",
        "    target = target.masked_select(no_ignore)\n",
        "\n",
        "    correct = torch.sum((output == 0) & (target == 0))\n",
        "    return correct\n",
        "\n",
        "def falsePositives(output, target):\n",
        "    output = torch.argmax(output, dim=1).flatten()\n",
        "    target = target.flatten()\n",
        "\n",
        "    no_ignore = target.ne(255).to(device)\n",
        "    output = output.masked_select(no_ignore)\n",
        "    target = target.masked_select(no_ignore)\n",
        "\n",
        "    correct = torch.sum((output == 1) & (target == 0))\n",
        "    return correct\n",
        "\n",
        "def falseNegatives(output, target):\n",
        "    output = torch.argmax(output, dim=1).flatten()\n",
        "    target = target.flatten()\n",
        "\n",
        "    no_ignore = target.ne(255).to(device)\n",
        "    output = output.masked_select(no_ignore)\n",
        "    target = target.masked_select(no_ignore)\n",
        "\n",
        "    correct = torch.sum((output == 0) & (target == 1))\n",
        "    return correct\n"
      ]
    },
    {
      "cell_type": "markdown",
      "metadata": {
        "id": "lun5tGoYgjWX"
      },
      "source": [
        "Define training loop"
      ]
    },
    {
      "cell_type": "code",
      "execution_count": 43,
      "metadata": {
        "execution": {
          "iopub.execute_input": "2024-10-07T06:42:14.412562Z",
          "iopub.status.busy": "2024-10-07T06:42:14.412199Z",
          "iopub.status.idle": "2024-10-07T06:42:14.419400Z",
          "shell.execute_reply": "2024-10-07T06:42:14.418544Z",
          "shell.execute_reply.started": "2024-10-07T06:42:14.412528Z"
        },
        "id": "ZpMerTt46qTE",
        "trusted": true
      },
      "outputs": [],
      "source": [
        "training_losses = []\n",
        "training_accuracies = []\n",
        "training_ious = []\n",
        "\n",
        "def train_loop(inputs, labels, net, optimizer, scheduler):\n",
        "  global running_loss\n",
        "  global running_iou\n",
        "  global running_count\n",
        "  global running_accuracy\n",
        "\n",
        "  # zero the parameter gradients\n",
        "  optimizer.zero_grad()\n",
        "  net = net.to(device)\n",
        "\n",
        "  # forward + backward + optimize\n",
        "  outputs = net(inputs.to(device))\n",
        "  loss = criterion(outputs, labels.long().to(device))\n",
        "  loss.backward()\n",
        "  optimizer.step()\n",
        "  scheduler.step()\n",
        "\n",
        "  running_loss += loss\n",
        "  running_iou += computeIOU(outputs, labels.to(device))\n",
        "  running_accuracy += computeAccuracy(outputs, labels.to(device))\n",
        "  running_count += 1"
      ]
    },
    {
      "cell_type": "markdown",
      "metadata": {
        "id": "iM3Jz__hgshh"
      },
      "source": [
        "Define validation loop"
      ]
    },
    {
      "cell_type": "code",
      "execution_count": 46,
      "metadata": {
        "execution": {
          "iopub.execute_input": "2024-10-07T06:42:14.439506Z",
          "iopub.status.busy": "2024-10-07T06:42:14.439171Z",
          "iopub.status.idle": "2024-10-07T06:42:14.452016Z",
          "shell.execute_reply": "2024-10-07T06:42:14.451059Z",
          "shell.execute_reply.started": "2024-10-07T06:42:14.439474Z"
        },
        "id": "f9gCNysO6xci",
        "trusted": true
      },
      "outputs": [],
      "source": [
        "valid_losses = []\n",
        "valid_accuracies = []\n",
        "valid_ious = []\n",
        "\n",
        "def validation_loop(validation_data_loader, net):\n",
        "  global running_loss\n",
        "  global running_iou\n",
        "  global running_count\n",
        "  global running_accuracy\n",
        "  global max_valid_iou\n",
        "\n",
        "  global training_losses\n",
        "  global training_accuracies\n",
        "  global training_ious\n",
        "  global valid_losses\n",
        "  global valid_accuracies\n",
        "  global valid_ious\n",
        "\n",
        "  net = net.eval()\n",
        "  net = net.to(device)\n",
        "  count = 0\n",
        "  iou = 0\n",
        "  loss = 0\n",
        "  accuracy = 0\n",
        "  with torch.no_grad():\n",
        "      for (images, labels) in validation_data_loader:\n",
        "          net = net.to(device)\n",
        "          outputs = net(images.to(device))\n",
        "          valid_loss = criterion(outputs, labels.long().to(device))\n",
        "          valid_iou = computeIOU(outputs, labels.to(device))\n",
        "          valid_accuracy = computeAccuracy(outputs, labels.to(device))\n",
        "          iou += valid_iou\n",
        "          loss += valid_loss\n",
        "          accuracy += valid_accuracy\n",
        "          count += 1\n",
        "\n",
        "  iou = iou / count\n",
        "  accuracy = accuracy / count\n",
        "\n",
        "  if iou > max_valid_iou:\n",
        "    max_valid_iou = iou\n",
        "    save_path = os.path.join(\"checkpoints\", \"{}_{}_{}.cp\".format(RUNNAME, i, iou.item()))\n",
        "    torch.save(net.state_dict(), save_path)\n",
        "    print(\"model saved at\", save_path)\n",
        "\n",
        "  loss = loss / count\n",
        "  print(\"Training Loss:\", running_loss / running_count)\n",
        "  print(\"Training IOU:\", running_iou / running_count)\n",
        "  print(\"Training Accuracy:\", running_accuracy / running_count)\n",
        "  print(\"Validation Loss:\", loss)\n",
        "  print(\"Validation IOU:\", iou)\n",
        "  print(\"Validation Accuracy:\", accuracy)\n",
        "\n",
        "\n",
        "  training_losses.append(running_loss.cpu().item() / running_count)\n",
        "  training_accuracies.append(running_accuracy.cpu().item() / running_count)\n",
        "  training_ious.append(running_iou.cpu().item() / running_count)\n",
        "  valid_losses.append(loss.cpu().item())\n",
        "  valid_accuracies.append(accuracy.cpu().item())\n",
        "  valid_ious.append(iou.cpu().item())"
      ]
    },
    {
      "cell_type": "markdown",
      "metadata": {
        "id": "DBMattYshiUj"
      },
      "source": [
        "Define testing loop (here, you can replace assessment metrics)."
      ]
    },
    {
      "cell_type": "code",
      "execution_count": 49,
      "metadata": {
        "execution": {
          "iopub.execute_input": "2024-10-07T06:42:14.477012Z",
          "iopub.status.busy": "2024-10-07T06:42:14.476477Z",
          "iopub.status.idle": "2024-10-07T06:42:14.485861Z",
          "shell.execute_reply": "2024-10-07T06:42:14.485046Z",
          "shell.execute_reply.started": "2024-10-07T06:42:14.476968Z"
        },
        "id": "O85NANbw62aO",
        "trusted": true
      },
      "outputs": [],
      "source": [
        "def test_loop(test_data_loader, net):\n",
        "  net = net.eval()\n",
        "  net = net.to(device)\n",
        "  count = 0\n",
        "  iou = 0\n",
        "  loss = 0\n",
        "  accuracy = 0\n",
        "  with torch.no_grad():\n",
        "      for (images, labels) in tqdm(test_data_loader):\n",
        "          net = net.to(device)\n",
        "          outputs = net(images.to(device))\n",
        "          valid_loss = criterion(outputs, labels.long().to(device))\n",
        "          valid_iou = computeIOU(outputs, labels.to(device))\n",
        "          iou += valid_iou\n",
        "          accuracy += computeAccuracy(outputs, labels.to(device))\n",
        "          count += 1\n",
        "\n",
        "  iou = iou / count\n",
        "  print(\"Test IOU:\", iou)\n",
        "  print(\"Test Accuracy:\", accuracy / count)"
      ]
    },
    {
      "cell_type": "markdown",
      "metadata": {
        "id": "cy9Fii06h17Q"
      },
      "source": [
        "Define training and validation scheme"
      ]
    },
    {
      "cell_type": "code",
      "execution_count": 51,
      "metadata": {
        "execution": {
          "iopub.execute_input": "2024-10-07T06:42:14.496224Z",
          "iopub.status.busy": "2024-10-07T06:42:14.495866Z",
          "iopub.status.idle": "2024-10-07T06:42:14.587189Z",
          "shell.execute_reply": "2024-10-07T06:42:14.586442Z",
          "shell.execute_reply.started": "2024-10-07T06:42:14.496182Z"
        },
        "id": "NZuKVC6wh4Go",
        "trusted": true
      },
      "outputs": [],
      "source": [
        "from tqdm.notebook import tqdm\n",
        "from IPython.display import clear_output\n",
        "\n",
        "running_loss = 0\n",
        "running_iou = 0\n",
        "running_count = 0\n",
        "running_accuracy = 0\n",
        "\n",
        "training_losses = []\n",
        "training_accuracies = []\n",
        "training_ious = []\n",
        "valid_losses = []\n",
        "valid_accuracies = []\n",
        "valid_ious = []\n",
        "\n",
        "\n",
        "def train_epoch(net, optimizer, scheduler, train_iter):\n",
        "  for (inputs, labels) in tqdm(train_iter):\n",
        "    train_loop(inputs.to(device), labels.to(device), net.to(device), optimizer, scheduler)\n",
        "\n",
        "\n",
        "def train_validation_loop(net, optimizer, scheduler, train_loader,\n",
        "                          valid_loader, num_epochs, cur_epoch):\n",
        "  global running_loss\n",
        "  global running_iou\n",
        "  global running_count\n",
        "  global running_accuracy\n",
        "  net = net.train()\n",
        "  running_loss = 0\n",
        "  running_iou = 0\n",
        "  running_count = 0\n",
        "  running_accuracy = 0\n",
        "\n",
        "  for i in tqdm(range(num_epochs)):\n",
        "    train_iter = iter(train_loader)\n",
        "    train_epoch(net, optimizer, scheduler, train_iter)\n",
        "  clear_output()\n",
        "\n",
        "  print(\"Current Epoch:\", cur_epoch)\n",
        "  validation_loop(iter(valid_loader), net)"
      ]
    },
    {
      "cell_type": "markdown",
      "metadata": {
        "id": "k3I88aY5iAWD"
      },
      "source": [
        "Train model and assess metrics over epochs"
      ]
    },
    {
      "cell_type": "code",
      "execution_count": null,
      "metadata": {
        "colab": {
          "base_uri": "https://localhost:8080/",
          "height": 700,
          "referenced_widgets": [
            "4f1c970a94474361a7fce1bbe295b20e",
            "1dc6853412da495f843d96ca6328333b",
            "940a4e9ff9b844abb783a360cbb21be5",
            "fcdb256793fa47ada93458f106631e39",
            "7023504f67db4838a6e5ffaa607a6f88",
            "f4cf61a1eea742dea3176bac669e31fe",
            "c8e6daaa2b1c40248f08a81dd8463fd1",
            "4301b596a4e2449ea51da9ad1a4e2a63",
            "762d414b760f4c43ad7c8a8a8d3acb12",
            "5bf5550b48cd4a6ba81d53d671d9447f",
            "2f07146b525d4bbda1d04448e3a3769e",
            "05a7f35f15634a20abb6435e7881f379",
            "fc8976e1df8547479aaa1be128452554",
            "c5a9eb8a48db4eef8ed52abda6981344",
            "0d8352fe64be441ea30d3d27df74d0ac",
            "d4c4c7881dee4c1b875dc352d26a0f76",
            "bfd2ce7bf6b64434a535b1f91d5b562d",
            "5578cdb5b8d340c38620382fb03ae4c8",
            "4f52ed924c6a438b89cc7031a92d0ef4",
            "d1c578d8e4c24197a9f66d6399b21711",
            "c12f28a7030e4c8a8286ff265a371b5b",
            "3a4066b66a784584b293614634d57332",
            "bbd2683d89d147669a24ad6889801547",
            "018cf279595c402bbd2202ff9257000b",
            "700522896e2f43f3a4e07cfb5b526234",
            "9d1855fb82fd4614b751c16e6807b2c3",
            "b07e05458d5c48f9859d114c0077ce27",
            "fa3076a1b2e84e8abd783ac309e80941",
            "29b4bf3eb89f4892947b2c28c1f3e3f5",
            "760497c26b9944ea8dc60ecbdd655468",
            "dd7d283a20b54424a2c75aaa16c242e2",
            "c0994fad0e734da6a97f9800ecae668b",
            "dec0ad33420741ef803c589318939e66"
          ]
        },
        "execution": {
          "iopub.execute_input": "2024-10-07T08:18:05.205222Z",
          "iopub.status.busy": "2024-10-07T08:18:05.204578Z"
        },
        "id": "dDlA_fOCF7oI",
        "outputId": "1eb43068-f2bb-435a-de8c-4236fb306ed6",
        "trusted": true
      },
      "outputs": [],
      "source": [
        "import os\n",
        "from IPython.display import display\n",
        "import matplotlib.pyplot as plt\n",
        "\n",
        "device = torch.device(\"cuda\" if torch.cuda.is_available() else \"cpu\")\n",
        "net = net.to(device)\n",
        "\n",
        "max_valid_iou = 0\n",
        "start = 0\n",
        "\n",
        "\n",
        "epochs = []\n",
        "training_losses = []\n",
        "training_accuracies = []\n",
        "training_ious = []\n",
        "valid_losses = []\n",
        "valid_accuracies = []\n",
        "valid_ious = []\n",
        "\n",
        "for i in range(start, 1000):\n",
        "  train_validation_loop(net, optimizer, scheduler, train_loader, valid_loader, 10, i)\n",
        "  epochs.append(i)\n",
        "  x = epochs\n",
        "  plt.plot(x, training_losses, label='training losses')\n",
        "  plt.plot(x, training_accuracies, 'tab:orange', label='training accuracy')\n",
        "  plt.plot(x, training_ious, 'tab:purple', label='training iou')\n",
        "  plt.plot(x, valid_losses, label='valid losses')\n",
        "  plt.plot(x, valid_accuracies, 'tab:red',label='valid accuracy')\n",
        "  plt.plot(x, valid_ious, 'tab:green',label='valid iou')\n",
        "  plt.legend(loc=\"upper left\")\n",
        "\n",
        "  display(plt.show())\n",
        "\n",
        "  print(\"max valid iou:\", max_valid_iou)"
      ]
    }
  ],
  "metadata": {
    "accelerator": "GPU",
    "colab": {
      "gpuType": "T4",
      "provenance": []
    },
    "kaggle": {
      "accelerator": "nvidiaTeslaT4",
      "dataSources": [],
      "dockerImageVersionId": 30787,
      "isGpuEnabled": true,
      "isInternetEnabled": true,
      "language": "python",
      "sourceType": "notebook"
    },
    "kernelspec": {
      "display_name": "Python 3",
      "language": "python",
      "name": "python3"
    },
    "language_info": {
      "codemirror_mode": {
        "name": "ipython",
        "version": 3
      },
      "file_extension": ".py",
      "mimetype": "text/x-python",
      "name": "python",
      "nbconvert_exporter": "python",
      "pygments_lexer": "ipython3",
      "version": "3.10.14"
    },
    "toc": {
      "base_numbering": 1,
      "nav_menu": {},
      "number_sections": true,
      "sideBar": true,
      "skip_h1_title": false,
      "title_cell": "Table of Contents",
      "title_sidebar": "Contents",
      "toc_cell": false,
      "toc_position": {},
      "toc_section_display": true,
      "toc_window_display": false
    },
    "widgets": {
      "application/vnd.jupyter.widget-state+json": {
        "018cf279595c402bbd2202ff9257000b": {
          "model_module": "@jupyter-widgets/controls",
          "model_module_version": "1.5.0",
          "model_name": "HTMLModel",
          "state": {
            "_dom_classes": [],
            "_model_module": "@jupyter-widgets/controls",
            "_model_module_version": "1.5.0",
            "_model_name": "HTMLModel",
            "_view_count": null,
            "_view_module": "@jupyter-widgets/controls",
            "_view_module_version": "1.5.0",
            "_view_name": "HTMLView",
            "description": "",
            "description_tooltip": null,
            "layout": "IPY_MODEL_fa3076a1b2e84e8abd783ac309e80941",
            "placeholder": "​",
            "style": "IPY_MODEL_29b4bf3eb89f4892947b2c28c1f3e3f5",
            "value": " 12%"
          }
        },
        "05a7f35f15634a20abb6435e7881f379": {
          "model_module": "@jupyter-widgets/controls",
          "model_module_version": "1.5.0",
          "model_name": "HBoxModel",
          "state": {
            "_dom_classes": [],
            "_model_module": "@jupyter-widgets/controls",
            "_model_module_version": "1.5.0",
            "_model_name": "HBoxModel",
            "_view_count": null,
            "_view_module": "@jupyter-widgets/controls",
            "_view_module_version": "1.5.0",
            "_view_name": "HBoxView",
            "box_style": "",
            "children": [
              "IPY_MODEL_fc8976e1df8547479aaa1be128452554",
              "IPY_MODEL_c5a9eb8a48db4eef8ed52abda6981344",
              "IPY_MODEL_0d8352fe64be441ea30d3d27df74d0ac"
            ],
            "layout": "IPY_MODEL_d4c4c7881dee4c1b875dc352d26a0f76"
          }
        },
        "0d8352fe64be441ea30d3d27df74d0ac": {
          "model_module": "@jupyter-widgets/controls",
          "model_module_version": "1.5.0",
          "model_name": "HTMLModel",
          "state": {
            "_dom_classes": [],
            "_model_module": "@jupyter-widgets/controls",
            "_model_module_version": "1.5.0",
            "_model_name": "HTMLModel",
            "_view_count": null,
            "_view_module": "@jupyter-widgets/controls",
            "_view_module_version": "1.5.0",
            "_view_name": "HTMLView",
            "description": "",
            "description_tooltip": null,
            "layout": "IPY_MODEL_c12f28a7030e4c8a8286ff265a371b5b",
            "placeholder": "​",
            "style": "IPY_MODEL_3a4066b66a784584b293614634d57332",
            "value": " 16/16 [18:35&lt;00:00, 65.04s/it]"
          }
        },
        "1dc6853412da495f843d96ca6328333b": {
          "model_module": "@jupyter-widgets/controls",
          "model_module_version": "1.5.0",
          "model_name": "HTMLModel",
          "state": {
            "_dom_classes": [],
            "_model_module": "@jupyter-widgets/controls",
            "_model_module_version": "1.5.0",
            "_model_name": "HTMLModel",
            "_view_count": null,
            "_view_module": "@jupyter-widgets/controls",
            "_view_module_version": "1.5.0",
            "_view_name": "HTMLView",
            "description": "",
            "description_tooltip": null,
            "layout": "IPY_MODEL_f4cf61a1eea742dea3176bac669e31fe",
            "placeholder": "​",
            "style": "IPY_MODEL_c8e6daaa2b1c40248f08a81dd8463fd1",
            "value": " 10%"
          }
        },
        "29b4bf3eb89f4892947b2c28c1f3e3f5": {
          "model_module": "@jupyter-widgets/controls",
          "model_module_version": "1.5.0",
          "model_name": "DescriptionStyleModel",
          "state": {
            "_model_module": "@jupyter-widgets/controls",
            "_model_module_version": "1.5.0",
            "_model_name": "DescriptionStyleModel",
            "_view_count": null,
            "_view_module": "@jupyter-widgets/base",
            "_view_module_version": "1.2.0",
            "_view_name": "StyleView",
            "description_width": ""
          }
        },
        "2f07146b525d4bbda1d04448e3a3769e": {
          "model_module": "@jupyter-widgets/controls",
          "model_module_version": "1.5.0",
          "model_name": "DescriptionStyleModel",
          "state": {
            "_model_module": "@jupyter-widgets/controls",
            "_model_module_version": "1.5.0",
            "_model_name": "DescriptionStyleModel",
            "_view_count": null,
            "_view_module": "@jupyter-widgets/base",
            "_view_module_version": "1.2.0",
            "_view_name": "StyleView",
            "description_width": ""
          }
        },
        "3a4066b66a784584b293614634d57332": {
          "model_module": "@jupyter-widgets/controls",
          "model_module_version": "1.5.0",
          "model_name": "DescriptionStyleModel",
          "state": {
            "_model_module": "@jupyter-widgets/controls",
            "_model_module_version": "1.5.0",
            "_model_name": "DescriptionStyleModel",
            "_view_count": null,
            "_view_module": "@jupyter-widgets/base",
            "_view_module_version": "1.2.0",
            "_view_name": "StyleView",
            "description_width": ""
          }
        },
        "4301b596a4e2449ea51da9ad1a4e2a63": {
          "model_module": "@jupyter-widgets/base",
          "model_module_version": "1.2.0",
          "model_name": "LayoutModel",
          "state": {
            "_model_module": "@jupyter-widgets/base",
            "_model_module_version": "1.2.0",
            "_model_name": "LayoutModel",
            "_view_count": null,
            "_view_module": "@jupyter-widgets/base",
            "_view_module_version": "1.2.0",
            "_view_name": "LayoutView",
            "align_content": null,
            "align_items": null,
            "align_self": null,
            "border": null,
            "bottom": null,
            "display": null,
            "flex": null,
            "flex_flow": null,
            "grid_area": null,
            "grid_auto_columns": null,
            "grid_auto_flow": null,
            "grid_auto_rows": null,
            "grid_column": null,
            "grid_gap": null,
            "grid_row": null,
            "grid_template_areas": null,
            "grid_template_columns": null,
            "grid_template_rows": null,
            "height": null,
            "justify_content": null,
            "justify_items": null,
            "left": null,
            "margin": null,
            "max_height": null,
            "max_width": null,
            "min_height": null,
            "min_width": null,
            "object_fit": null,
            "object_position": null,
            "order": null,
            "overflow": null,
            "overflow_x": null,
            "overflow_y": null,
            "padding": null,
            "right": null,
            "top": null,
            "visibility": null,
            "width": null
          }
        },
        "4f1c970a94474361a7fce1bbe295b20e": {
          "model_module": "@jupyter-widgets/controls",
          "model_module_version": "1.5.0",
          "model_name": "HBoxModel",
          "state": {
            "_dom_classes": [],
            "_model_module": "@jupyter-widgets/controls",
            "_model_module_version": "1.5.0",
            "_model_name": "HBoxModel",
            "_view_count": null,
            "_view_module": "@jupyter-widgets/controls",
            "_view_module_version": "1.5.0",
            "_view_name": "HBoxView",
            "box_style": "",
            "children": [
              "IPY_MODEL_1dc6853412da495f843d96ca6328333b",
              "IPY_MODEL_940a4e9ff9b844abb783a360cbb21be5",
              "IPY_MODEL_fcdb256793fa47ada93458f106631e39"
            ],
            "layout": "IPY_MODEL_7023504f67db4838a6e5ffaa607a6f88"
          }
        },
        "4f52ed924c6a438b89cc7031a92d0ef4": {
          "model_module": "@jupyter-widgets/base",
          "model_module_version": "1.2.0",
          "model_name": "LayoutModel",
          "state": {
            "_model_module": "@jupyter-widgets/base",
            "_model_module_version": "1.2.0",
            "_model_name": "LayoutModel",
            "_view_count": null,
            "_view_module": "@jupyter-widgets/base",
            "_view_module_version": "1.2.0",
            "_view_name": "LayoutView",
            "align_content": null,
            "align_items": null,
            "align_self": null,
            "border": null,
            "bottom": null,
            "display": null,
            "flex": null,
            "flex_flow": null,
            "grid_area": null,
            "grid_auto_columns": null,
            "grid_auto_flow": null,
            "grid_auto_rows": null,
            "grid_column": null,
            "grid_gap": null,
            "grid_row": null,
            "grid_template_areas": null,
            "grid_template_columns": null,
            "grid_template_rows": null,
            "height": null,
            "justify_content": null,
            "justify_items": null,
            "left": null,
            "margin": null,
            "max_height": null,
            "max_width": null,
            "min_height": null,
            "min_width": null,
            "object_fit": null,
            "object_position": null,
            "order": null,
            "overflow": null,
            "overflow_x": null,
            "overflow_y": null,
            "padding": null,
            "right": null,
            "top": null,
            "visibility": null,
            "width": null
          }
        },
        "5578cdb5b8d340c38620382fb03ae4c8": {
          "model_module": "@jupyter-widgets/controls",
          "model_module_version": "1.5.0",
          "model_name": "DescriptionStyleModel",
          "state": {
            "_model_module": "@jupyter-widgets/controls",
            "_model_module_version": "1.5.0",
            "_model_name": "DescriptionStyleModel",
            "_view_count": null,
            "_view_module": "@jupyter-widgets/base",
            "_view_module_version": "1.2.0",
            "_view_name": "StyleView",
            "description_width": ""
          }
        },
        "5bf5550b48cd4a6ba81d53d671d9447f": {
          "model_module": "@jupyter-widgets/base",
          "model_module_version": "1.2.0",
          "model_name": "LayoutModel",
          "state": {
            "_model_module": "@jupyter-widgets/base",
            "_model_module_version": "1.2.0",
            "_model_name": "LayoutModel",
            "_view_count": null,
            "_view_module": "@jupyter-widgets/base",
            "_view_module_version": "1.2.0",
            "_view_name": "LayoutView",
            "align_content": null,
            "align_items": null,
            "align_self": null,
            "border": null,
            "bottom": null,
            "display": null,
            "flex": null,
            "flex_flow": null,
            "grid_area": null,
            "grid_auto_columns": null,
            "grid_auto_flow": null,
            "grid_auto_rows": null,
            "grid_column": null,
            "grid_gap": null,
            "grid_row": null,
            "grid_template_areas": null,
            "grid_template_columns": null,
            "grid_template_rows": null,
            "height": null,
            "justify_content": null,
            "justify_items": null,
            "left": null,
            "margin": null,
            "max_height": null,
            "max_width": null,
            "min_height": null,
            "min_width": null,
            "object_fit": null,
            "object_position": null,
            "order": null,
            "overflow": null,
            "overflow_x": null,
            "overflow_y": null,
            "padding": null,
            "right": null,
            "top": null,
            "visibility": null,
            "width": null
          }
        },
        "700522896e2f43f3a4e07cfb5b526234": {
          "model_module": "@jupyter-widgets/controls",
          "model_module_version": "1.5.0",
          "model_name": "FloatProgressModel",
          "state": {
            "_dom_classes": [],
            "_model_module": "@jupyter-widgets/controls",
            "_model_module_version": "1.5.0",
            "_model_name": "FloatProgressModel",
            "_view_count": null,
            "_view_module": "@jupyter-widgets/controls",
            "_view_module_version": "1.5.0",
            "_view_name": "ProgressView",
            "bar_style": "",
            "description": "",
            "description_tooltip": null,
            "layout": "IPY_MODEL_760497c26b9944ea8dc60ecbdd655468",
            "max": 16,
            "min": 0,
            "orientation": "horizontal",
            "style": "IPY_MODEL_dd7d283a20b54424a2c75aaa16c242e2",
            "value": 2
          }
        },
        "7023504f67db4838a6e5ffaa607a6f88": {
          "model_module": "@jupyter-widgets/base",
          "model_module_version": "1.2.0",
          "model_name": "LayoutModel",
          "state": {
            "_model_module": "@jupyter-widgets/base",
            "_model_module_version": "1.2.0",
            "_model_name": "LayoutModel",
            "_view_count": null,
            "_view_module": "@jupyter-widgets/base",
            "_view_module_version": "1.2.0",
            "_view_name": "LayoutView",
            "align_content": null,
            "align_items": null,
            "align_self": null,
            "border": null,
            "bottom": null,
            "display": null,
            "flex": null,
            "flex_flow": null,
            "grid_area": null,
            "grid_auto_columns": null,
            "grid_auto_flow": null,
            "grid_auto_rows": null,
            "grid_column": null,
            "grid_gap": null,
            "grid_row": null,
            "grid_template_areas": null,
            "grid_template_columns": null,
            "grid_template_rows": null,
            "height": null,
            "justify_content": null,
            "justify_items": null,
            "left": null,
            "margin": null,
            "max_height": null,
            "max_width": null,
            "min_height": null,
            "min_width": null,
            "object_fit": null,
            "object_position": null,
            "order": null,
            "overflow": null,
            "overflow_x": null,
            "overflow_y": null,
            "padding": null,
            "right": null,
            "top": null,
            "visibility": null,
            "width": null
          }
        },
        "760497c26b9944ea8dc60ecbdd655468": {
          "model_module": "@jupyter-widgets/base",
          "model_module_version": "1.2.0",
          "model_name": "LayoutModel",
          "state": {
            "_model_module": "@jupyter-widgets/base",
            "_model_module_version": "1.2.0",
            "_model_name": "LayoutModel",
            "_view_count": null,
            "_view_module": "@jupyter-widgets/base",
            "_view_module_version": "1.2.0",
            "_view_name": "LayoutView",
            "align_content": null,
            "align_items": null,
            "align_self": null,
            "border": null,
            "bottom": null,
            "display": null,
            "flex": null,
            "flex_flow": null,
            "grid_area": null,
            "grid_auto_columns": null,
            "grid_auto_flow": null,
            "grid_auto_rows": null,
            "grid_column": null,
            "grid_gap": null,
            "grid_row": null,
            "grid_template_areas": null,
            "grid_template_columns": null,
            "grid_template_rows": null,
            "height": null,
            "justify_content": null,
            "justify_items": null,
            "left": null,
            "margin": null,
            "max_height": null,
            "max_width": null,
            "min_height": null,
            "min_width": null,
            "object_fit": null,
            "object_position": null,
            "order": null,
            "overflow": null,
            "overflow_x": null,
            "overflow_y": null,
            "padding": null,
            "right": null,
            "top": null,
            "visibility": null,
            "width": null
          }
        },
        "762d414b760f4c43ad7c8a8a8d3acb12": {
          "model_module": "@jupyter-widgets/controls",
          "model_module_version": "1.5.0",
          "model_name": "ProgressStyleModel",
          "state": {
            "_model_module": "@jupyter-widgets/controls",
            "_model_module_version": "1.5.0",
            "_model_name": "ProgressStyleModel",
            "_view_count": null,
            "_view_module": "@jupyter-widgets/base",
            "_view_module_version": "1.2.0",
            "_view_name": "StyleView",
            "bar_color": null,
            "description_width": ""
          }
        },
        "940a4e9ff9b844abb783a360cbb21be5": {
          "model_module": "@jupyter-widgets/controls",
          "model_module_version": "1.5.0",
          "model_name": "FloatProgressModel",
          "state": {
            "_dom_classes": [],
            "_model_module": "@jupyter-widgets/controls",
            "_model_module_version": "1.5.0",
            "_model_name": "FloatProgressModel",
            "_view_count": null,
            "_view_module": "@jupyter-widgets/controls",
            "_view_module_version": "1.5.0",
            "_view_name": "ProgressView",
            "bar_style": "",
            "description": "",
            "description_tooltip": null,
            "layout": "IPY_MODEL_4301b596a4e2449ea51da9ad1a4e2a63",
            "max": 10,
            "min": 0,
            "orientation": "horizontal",
            "style": "IPY_MODEL_762d414b760f4c43ad7c8a8a8d3acb12",
            "value": 1
          }
        },
        "9d1855fb82fd4614b751c16e6807b2c3": {
          "model_module": "@jupyter-widgets/controls",
          "model_module_version": "1.5.0",
          "model_name": "HTMLModel",
          "state": {
            "_dom_classes": [],
            "_model_module": "@jupyter-widgets/controls",
            "_model_module_version": "1.5.0",
            "_model_name": "HTMLModel",
            "_view_count": null,
            "_view_module": "@jupyter-widgets/controls",
            "_view_module_version": "1.5.0",
            "_view_name": "HTMLView",
            "description": "",
            "description_tooltip": null,
            "layout": "IPY_MODEL_c0994fad0e734da6a97f9800ecae668b",
            "placeholder": "​",
            "style": "IPY_MODEL_dec0ad33420741ef803c589318939e66",
            "value": " 2/16 [02:19&lt;16:19, 69.98s/it]"
          }
        },
        "b07e05458d5c48f9859d114c0077ce27": {
          "model_module": "@jupyter-widgets/base",
          "model_module_version": "1.2.0",
          "model_name": "LayoutModel",
          "state": {
            "_model_module": "@jupyter-widgets/base",
            "_model_module_version": "1.2.0",
            "_model_name": "LayoutModel",
            "_view_count": null,
            "_view_module": "@jupyter-widgets/base",
            "_view_module_version": "1.2.0",
            "_view_name": "LayoutView",
            "align_content": null,
            "align_items": null,
            "align_self": null,
            "border": null,
            "bottom": null,
            "display": null,
            "flex": null,
            "flex_flow": null,
            "grid_area": null,
            "grid_auto_columns": null,
            "grid_auto_flow": null,
            "grid_auto_rows": null,
            "grid_column": null,
            "grid_gap": null,
            "grid_row": null,
            "grid_template_areas": null,
            "grid_template_columns": null,
            "grid_template_rows": null,
            "height": null,
            "justify_content": null,
            "justify_items": null,
            "left": null,
            "margin": null,
            "max_height": null,
            "max_width": null,
            "min_height": null,
            "min_width": null,
            "object_fit": null,
            "object_position": null,
            "order": null,
            "overflow": null,
            "overflow_x": null,
            "overflow_y": null,
            "padding": null,
            "right": null,
            "top": null,
            "visibility": null,
            "width": null
          }
        },
        "bbd2683d89d147669a24ad6889801547": {
          "model_module": "@jupyter-widgets/controls",
          "model_module_version": "1.5.0",
          "model_name": "HBoxModel",
          "state": {
            "_dom_classes": [],
            "_model_module": "@jupyter-widgets/controls",
            "_model_module_version": "1.5.0",
            "_model_name": "HBoxModel",
            "_view_count": null,
            "_view_module": "@jupyter-widgets/controls",
            "_view_module_version": "1.5.0",
            "_view_name": "HBoxView",
            "box_style": "",
            "children": [
              "IPY_MODEL_018cf279595c402bbd2202ff9257000b",
              "IPY_MODEL_700522896e2f43f3a4e07cfb5b526234",
              "IPY_MODEL_9d1855fb82fd4614b751c16e6807b2c3"
            ],
            "layout": "IPY_MODEL_b07e05458d5c48f9859d114c0077ce27"
          }
        },
        "bfd2ce7bf6b64434a535b1f91d5b562d": {
          "model_module": "@jupyter-widgets/base",
          "model_module_version": "1.2.0",
          "model_name": "LayoutModel",
          "state": {
            "_model_module": "@jupyter-widgets/base",
            "_model_module_version": "1.2.0",
            "_model_name": "LayoutModel",
            "_view_count": null,
            "_view_module": "@jupyter-widgets/base",
            "_view_module_version": "1.2.0",
            "_view_name": "LayoutView",
            "align_content": null,
            "align_items": null,
            "align_self": null,
            "border": null,
            "bottom": null,
            "display": null,
            "flex": null,
            "flex_flow": null,
            "grid_area": null,
            "grid_auto_columns": null,
            "grid_auto_flow": null,
            "grid_auto_rows": null,
            "grid_column": null,
            "grid_gap": null,
            "grid_row": null,
            "grid_template_areas": null,
            "grid_template_columns": null,
            "grid_template_rows": null,
            "height": null,
            "justify_content": null,
            "justify_items": null,
            "left": null,
            "margin": null,
            "max_height": null,
            "max_width": null,
            "min_height": null,
            "min_width": null,
            "object_fit": null,
            "object_position": null,
            "order": null,
            "overflow": null,
            "overflow_x": null,
            "overflow_y": null,
            "padding": null,
            "right": null,
            "top": null,
            "visibility": null,
            "width": null
          }
        },
        "c0994fad0e734da6a97f9800ecae668b": {
          "model_module": "@jupyter-widgets/base",
          "model_module_version": "1.2.0",
          "model_name": "LayoutModel",
          "state": {
            "_model_module": "@jupyter-widgets/base",
            "_model_module_version": "1.2.0",
            "_model_name": "LayoutModel",
            "_view_count": null,
            "_view_module": "@jupyter-widgets/base",
            "_view_module_version": "1.2.0",
            "_view_name": "LayoutView",
            "align_content": null,
            "align_items": null,
            "align_self": null,
            "border": null,
            "bottom": null,
            "display": null,
            "flex": null,
            "flex_flow": null,
            "grid_area": null,
            "grid_auto_columns": null,
            "grid_auto_flow": null,
            "grid_auto_rows": null,
            "grid_column": null,
            "grid_gap": null,
            "grid_row": null,
            "grid_template_areas": null,
            "grid_template_columns": null,
            "grid_template_rows": null,
            "height": null,
            "justify_content": null,
            "justify_items": null,
            "left": null,
            "margin": null,
            "max_height": null,
            "max_width": null,
            "min_height": null,
            "min_width": null,
            "object_fit": null,
            "object_position": null,
            "order": null,
            "overflow": null,
            "overflow_x": null,
            "overflow_y": null,
            "padding": null,
            "right": null,
            "top": null,
            "visibility": null,
            "width": null
          }
        },
        "c12f28a7030e4c8a8286ff265a371b5b": {
          "model_module": "@jupyter-widgets/base",
          "model_module_version": "1.2.0",
          "model_name": "LayoutModel",
          "state": {
            "_model_module": "@jupyter-widgets/base",
            "_model_module_version": "1.2.0",
            "_model_name": "LayoutModel",
            "_view_count": null,
            "_view_module": "@jupyter-widgets/base",
            "_view_module_version": "1.2.0",
            "_view_name": "LayoutView",
            "align_content": null,
            "align_items": null,
            "align_self": null,
            "border": null,
            "bottom": null,
            "display": null,
            "flex": null,
            "flex_flow": null,
            "grid_area": null,
            "grid_auto_columns": null,
            "grid_auto_flow": null,
            "grid_auto_rows": null,
            "grid_column": null,
            "grid_gap": null,
            "grid_row": null,
            "grid_template_areas": null,
            "grid_template_columns": null,
            "grid_template_rows": null,
            "height": null,
            "justify_content": null,
            "justify_items": null,
            "left": null,
            "margin": null,
            "max_height": null,
            "max_width": null,
            "min_height": null,
            "min_width": null,
            "object_fit": null,
            "object_position": null,
            "order": null,
            "overflow": null,
            "overflow_x": null,
            "overflow_y": null,
            "padding": null,
            "right": null,
            "top": null,
            "visibility": null,
            "width": null
          }
        },
        "c5a9eb8a48db4eef8ed52abda6981344": {
          "model_module": "@jupyter-widgets/controls",
          "model_module_version": "1.5.0",
          "model_name": "FloatProgressModel",
          "state": {
            "_dom_classes": [],
            "_model_module": "@jupyter-widgets/controls",
            "_model_module_version": "1.5.0",
            "_model_name": "FloatProgressModel",
            "_view_count": null,
            "_view_module": "@jupyter-widgets/controls",
            "_view_module_version": "1.5.0",
            "_view_name": "ProgressView",
            "bar_style": "success",
            "description": "",
            "description_tooltip": null,
            "layout": "IPY_MODEL_4f52ed924c6a438b89cc7031a92d0ef4",
            "max": 16,
            "min": 0,
            "orientation": "horizontal",
            "style": "IPY_MODEL_d1c578d8e4c24197a9f66d6399b21711",
            "value": 16
          }
        },
        "c8e6daaa2b1c40248f08a81dd8463fd1": {
          "model_module": "@jupyter-widgets/controls",
          "model_module_version": "1.5.0",
          "model_name": "DescriptionStyleModel",
          "state": {
            "_model_module": "@jupyter-widgets/controls",
            "_model_module_version": "1.5.0",
            "_model_name": "DescriptionStyleModel",
            "_view_count": null,
            "_view_module": "@jupyter-widgets/base",
            "_view_module_version": "1.2.0",
            "_view_name": "StyleView",
            "description_width": ""
          }
        },
        "d1c578d8e4c24197a9f66d6399b21711": {
          "model_module": "@jupyter-widgets/controls",
          "model_module_version": "1.5.0",
          "model_name": "ProgressStyleModel",
          "state": {
            "_model_module": "@jupyter-widgets/controls",
            "_model_module_version": "1.5.0",
            "_model_name": "ProgressStyleModel",
            "_view_count": null,
            "_view_module": "@jupyter-widgets/base",
            "_view_module_version": "1.2.0",
            "_view_name": "StyleView",
            "bar_color": null,
            "description_width": ""
          }
        },
        "d4c4c7881dee4c1b875dc352d26a0f76": {
          "model_module": "@jupyter-widgets/base",
          "model_module_version": "1.2.0",
          "model_name": "LayoutModel",
          "state": {
            "_model_module": "@jupyter-widgets/base",
            "_model_module_version": "1.2.0",
            "_model_name": "LayoutModel",
            "_view_count": null,
            "_view_module": "@jupyter-widgets/base",
            "_view_module_version": "1.2.0",
            "_view_name": "LayoutView",
            "align_content": null,
            "align_items": null,
            "align_self": null,
            "border": null,
            "bottom": null,
            "display": null,
            "flex": null,
            "flex_flow": null,
            "grid_area": null,
            "grid_auto_columns": null,
            "grid_auto_flow": null,
            "grid_auto_rows": null,
            "grid_column": null,
            "grid_gap": null,
            "grid_row": null,
            "grid_template_areas": null,
            "grid_template_columns": null,
            "grid_template_rows": null,
            "height": null,
            "justify_content": null,
            "justify_items": null,
            "left": null,
            "margin": null,
            "max_height": null,
            "max_width": null,
            "min_height": null,
            "min_width": null,
            "object_fit": null,
            "object_position": null,
            "order": null,
            "overflow": null,
            "overflow_x": null,
            "overflow_y": null,
            "padding": null,
            "right": null,
            "top": null,
            "visibility": null,
            "width": null
          }
        },
        "dd7d283a20b54424a2c75aaa16c242e2": {
          "model_module": "@jupyter-widgets/controls",
          "model_module_version": "1.5.0",
          "model_name": "ProgressStyleModel",
          "state": {
            "_model_module": "@jupyter-widgets/controls",
            "_model_module_version": "1.5.0",
            "_model_name": "ProgressStyleModel",
            "_view_count": null,
            "_view_module": "@jupyter-widgets/base",
            "_view_module_version": "1.2.0",
            "_view_name": "StyleView",
            "bar_color": null,
            "description_width": ""
          }
        },
        "dec0ad33420741ef803c589318939e66": {
          "model_module": "@jupyter-widgets/controls",
          "model_module_version": "1.5.0",
          "model_name": "DescriptionStyleModel",
          "state": {
            "_model_module": "@jupyter-widgets/controls",
            "_model_module_version": "1.5.0",
            "_model_name": "DescriptionStyleModel",
            "_view_count": null,
            "_view_module": "@jupyter-widgets/base",
            "_view_module_version": "1.2.0",
            "_view_name": "StyleView",
            "description_width": ""
          }
        },
        "f4cf61a1eea742dea3176bac669e31fe": {
          "model_module": "@jupyter-widgets/base",
          "model_module_version": "1.2.0",
          "model_name": "LayoutModel",
          "state": {
            "_model_module": "@jupyter-widgets/base",
            "_model_module_version": "1.2.0",
            "_model_name": "LayoutModel",
            "_view_count": null,
            "_view_module": "@jupyter-widgets/base",
            "_view_module_version": "1.2.0",
            "_view_name": "LayoutView",
            "align_content": null,
            "align_items": null,
            "align_self": null,
            "border": null,
            "bottom": null,
            "display": null,
            "flex": null,
            "flex_flow": null,
            "grid_area": null,
            "grid_auto_columns": null,
            "grid_auto_flow": null,
            "grid_auto_rows": null,
            "grid_column": null,
            "grid_gap": null,
            "grid_row": null,
            "grid_template_areas": null,
            "grid_template_columns": null,
            "grid_template_rows": null,
            "height": null,
            "justify_content": null,
            "justify_items": null,
            "left": null,
            "margin": null,
            "max_height": null,
            "max_width": null,
            "min_height": null,
            "min_width": null,
            "object_fit": null,
            "object_position": null,
            "order": null,
            "overflow": null,
            "overflow_x": null,
            "overflow_y": null,
            "padding": null,
            "right": null,
            "top": null,
            "visibility": null,
            "width": null
          }
        },
        "fa3076a1b2e84e8abd783ac309e80941": {
          "model_module": "@jupyter-widgets/base",
          "model_module_version": "1.2.0",
          "model_name": "LayoutModel",
          "state": {
            "_model_module": "@jupyter-widgets/base",
            "_model_module_version": "1.2.0",
            "_model_name": "LayoutModel",
            "_view_count": null,
            "_view_module": "@jupyter-widgets/base",
            "_view_module_version": "1.2.0",
            "_view_name": "LayoutView",
            "align_content": null,
            "align_items": null,
            "align_self": null,
            "border": null,
            "bottom": null,
            "display": null,
            "flex": null,
            "flex_flow": null,
            "grid_area": null,
            "grid_auto_columns": null,
            "grid_auto_flow": null,
            "grid_auto_rows": null,
            "grid_column": null,
            "grid_gap": null,
            "grid_row": null,
            "grid_template_areas": null,
            "grid_template_columns": null,
            "grid_template_rows": null,
            "height": null,
            "justify_content": null,
            "justify_items": null,
            "left": null,
            "margin": null,
            "max_height": null,
            "max_width": null,
            "min_height": null,
            "min_width": null,
            "object_fit": null,
            "object_position": null,
            "order": null,
            "overflow": null,
            "overflow_x": null,
            "overflow_y": null,
            "padding": null,
            "right": null,
            "top": null,
            "visibility": null,
            "width": null
          }
        },
        "fc8976e1df8547479aaa1be128452554": {
          "model_module": "@jupyter-widgets/controls",
          "model_module_version": "1.5.0",
          "model_name": "HTMLModel",
          "state": {
            "_dom_classes": [],
            "_model_module": "@jupyter-widgets/controls",
            "_model_module_version": "1.5.0",
            "_model_name": "HTMLModel",
            "_view_count": null,
            "_view_module": "@jupyter-widgets/controls",
            "_view_module_version": "1.5.0",
            "_view_name": "HTMLView",
            "description": "",
            "description_tooltip": null,
            "layout": "IPY_MODEL_bfd2ce7bf6b64434a535b1f91d5b562d",
            "placeholder": "​",
            "style": "IPY_MODEL_5578cdb5b8d340c38620382fb03ae4c8",
            "value": "100%"
          }
        },
        "fcdb256793fa47ada93458f106631e39": {
          "model_module": "@jupyter-widgets/controls",
          "model_module_version": "1.5.0",
          "model_name": "HTMLModel",
          "state": {
            "_dom_classes": [],
            "_model_module": "@jupyter-widgets/controls",
            "_model_module_version": "1.5.0",
            "_model_name": "HTMLModel",
            "_view_count": null,
            "_view_module": "@jupyter-widgets/controls",
            "_view_module_version": "1.5.0",
            "_view_name": "HTMLView",
            "description": "",
            "description_tooltip": null,
            "layout": "IPY_MODEL_5bf5550b48cd4a6ba81d53d671d9447f",
            "placeholder": "​",
            "style": "IPY_MODEL_2f07146b525d4bbda1d04448e3a3769e",
            "value": " 1/10 [18:35&lt;2:47:19, 1115.45s/it]"
          }
        }
      }
    }
  },
  "nbformat": 4,
  "nbformat_minor": 0
}
